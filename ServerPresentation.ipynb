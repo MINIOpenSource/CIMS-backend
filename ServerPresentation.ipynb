{
 "cells": [
  {
   "cell_type": "markdown",
   "id": "7655e2bce6585727",
   "metadata": {},
   "source": [
    "如果需要，执行下面的代码以初始化集控配置，这样，你就可以直接应用项目原有的配置文件了\n",
    "这个初始化适用于本地的 ClassIsland"
   ]
  },
  {
   "metadata": {
    "ExecuteTime": {
     "end_time": "2025-02-23T05:34:26.825854Z",
     "start_time": "2025-02-23T05:34:26.802788Z"
    }
   },
   "cell_type": "code",
   "source": [
    "import os\n",
    "import json\n",
    "\n",
    "def write_json_to_file(filepath, data):\n",
    "    \"\"\"\n",
    "    将JSON数据写入文件，如果目录不存在则创建。\n",
    "\n",
    "    Args:\n",
    "        filepath (str): 文件路径。\n",
    "        data (dict): 要写入的JSON数据（Python字典）。\n",
    "    \"\"\"\n",
    "    directory = os.path.dirname(filepath)\n",
    "    if not os.path.exists(directory):\n",
    "        os.makedirs(directory)  # 创建目录，包括所有父目录\n",
    "\n",
    "    with open(filepath, 'w') as f:\n",
    "        json.dump(data, f, indent=None) # 使用indent=None去除空格和换行，生成紧凑的JSON\n",
    "\n",
    "\n",
    "if __name__ == \"__main__\":\n",
    "    settings_filepath = os.path.join(os.path.expanduser(\"~\"), \"AppData\", \"Local\", \"ClassIsland\", \"Management\", \"Settings.json\")\n",
    "    persist_filepath = os.path.join(os.path.expanduser(\"~\"), \"AppData\", \"Local\", \"ClassIsland\", \"Management\", \"Persist.json\")\n",
    "\n",
    "    settings_data = {\n",
    "        \"IsManagementEnabled\": True,\n",
    "        \"ManagementServerKind\": 1,\n",
    "        \"ManagementServer\": \"http://127.0.0.1:50050\",\n",
    "        \"ManagementServerGrpc\": \"http://127.0.0.1:50051\",\n",
    "        \"ManifestUrlTemplate\": \"\",\n",
    "        \"ClassIdentity\": \"TEST01\",\n",
    "        \"IsActive\": False\n",
    "    }\n",
    "\n",
    "    persist_data = {\n",
    "        \"ClientUniqueId\": \"26077a30-7859-49c0-aab3-9e04c3ffa270\"\n",
    "    }\n",
    "\n",
    "    write_json_to_file(settings_filepath, settings_data)\n",
    "    write_json_to_file(persist_filepath, persist_data)\n",
    "\n",
    "    print(f\"已写入 Settings.json 到: {settings_filepath}\")\n",
    "    print(f\"已写入 Persist.json 到: {persist_filepath}\")"
   ],
   "id": "3615a521e113f33d",
   "outputs": [
    {
     "name": "stdout",
     "output_type": "stream",
     "text": [
      "已写入 Settings.json 到: C:\\Users\\34876\\AppData\\Local\\ClassIsland\\Management\\Settings.json\n",
      "已写入 Persist.json 到: C:\\Users\\34876\\AppData\\Local\\ClassIsland\\Management\\Persist.json\n"
     ]
    }
   ],
   "execution_count": 3
  },
  {
   "metadata": {},
   "cell_type": "markdown",
   "source": "不妨先导入服务器和异步处理器",
   "id": "134b8b0ffe9d7e3"
  },
  {
   "metadata": {},
   "cell_type": "code",
   "source": [
    "import ManagementServer\n",
    "import asyncio"
   ],
   "id": "initial_id",
   "outputs": [],
   "execution_count": null
  },
  {
   "cell_type": "markdown",
   "id": "27ebd3df347af207",
   "metadata": {},
   "source": [
    "定义一个异步函数用于同时启动三个服务器"
   ]
  },
  {
   "metadata": {},
   "cell_type": "code",
   "source": [
    "async def main():\n",
    "    await asyncio.gather(\n",
    "        ManagementServer.gRPC.start(),\n",
    "        ManagementServer.command.start(),\n",
    "        ManagementServer.api.start()\n",
    "    )"
   ],
   "id": "81e1003b3d39e870",
   "outputs": [],
   "execution_count": null
  },
  {
   "metadata": {},
   "cell_type": "markdown",
   "source": "然后启动服务器，gRPC 监听在 50051，command 监听在 50050，api 监听在 50052",
   "id": "e63ab45661d9f577"
  },
  {
   "metadata": {},
   "cell_type": "code",
   "source": "asyncio.get_running_loop().create_task(main())",
   "id": "e82612e5e1ea7cfb",
   "outputs": [],
   "execution_count": null
  },
  {
   "metadata": {},
   "cell_type": "markdown",
   "source": "不出意外的话，你现在可以在[这里](http://127.0.0.1:50052/docs)访问到 API 的文档页并尝试使用了。",
   "id": "c2309b13289f1abb"
  }
 ],
 "metadata": {
  "kernelspec": {
   "display_name": "Python 3",
   "language": "python",
   "name": "python3"
  },
  "language_info": {
   "codemirror_mode": {
    "name": "ipython",
    "version": 2
   },
   "file_extension": ".py",
   "mimetype": "text/x-python",
   "name": "python",
   "nbconvert_exporter": "python",
   "pygments_lexer": "ipython2",
   "version": "2.7.6"
  }
 },
 "nbformat": 4,
 "nbformat_minor": 5
}
