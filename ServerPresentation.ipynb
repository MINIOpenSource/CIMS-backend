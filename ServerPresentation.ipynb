{
 "cells": [
  {
   "cell_type": "markdown",
   "id": "7655e2bce6585727",
   "metadata": {},
   "source": [
    "不妨先导入服务器和异步处理器"
   ]
  },
  {
   "cell_type": "code",
   "id": "initial_id",
   "metadata": {
    "ExecuteTime": {
     "end_time": "2025-02-19T17:49:54.881848Z",
     "start_time": "2025-02-19T17:49:54.088276Z"
    }
   },
   "source": [
    "import ManagementServer\n",
    "import asyncio"
   ],
   "outputs": [],
   "execution_count": 1
  },
  {
   "cell_type": "markdown",
   "id": "27ebd3df347af207",
   "metadata": {},
   "source": [
    "定义一个异步函数用于同时启动三个服务器"
   ]
  },
  {
   "metadata": {
    "ExecuteTime": {
     "end_time": "2025-02-19T17:49:54.893468Z",
     "start_time": "2025-02-19T17:49:54.889498Z"
    }
   },
   "cell_type": "code",
   "source": [
    "async def main():\n",
    "    await asyncio.gather(\n",
    "        ManagementServer.gRPC.start(),\n",
    "        ManagementServer.command.start(),\n",
    "        ManagementServer.api.start()\n",
    "    )"
   ],
   "id": "81e1003b3d39e870",
   "outputs": [],
   "execution_count": 2
  },
  {
   "metadata": {},
   "cell_type": "markdown",
   "source": "然后启动服务器，gRPC 监听在 50051，command 监听在 50050，api 监听在 50052",
   "id": "e63ab45661d9f577"
  },
  {
   "metadata": {
    "ExecuteTime": {
     "end_time": "2025-02-19T17:49:55.230869Z",
     "start_time": "2025-02-19T17:49:55.224509Z"
    }
   },
   "cell_type": "code",
   "source": "asyncio.get_running_loop().create_task(main())",
   "id": "e82612e5e1ea7cfb",
   "outputs": [
    {
     "data": {
      "text/plain": [
       "<Task pending name='Task-5' coro=<main() running at C:\\Users\\34876\\AppData\\Local\\Temp\\ipykernel_40692\\4202374272.py:1>>"
      ]
     },
     "execution_count": 3,
     "metadata": {},
     "output_type": "execute_result"
    }
   ],
   "execution_count": 3
  },
  {
   "metadata": {},
   "cell_type": "markdown",
   "source": "不出意外的话，你现在可以在[这里](http://127.0.0.1:50052/docs)访问到 API 的文档页并尝试使用了。",
   "id": "c2309b13289f1abb"
  }
 ],
 "metadata": {
  "kernelspec": {
   "display_name": "Python 3",
   "language": "python",
   "name": "python3"
  },
  "language_info": {
   "codemirror_mode": {
    "name": "ipython",
    "version": 2
   },
   "file_extension": ".py",
   "mimetype": "text/x-python",
   "name": "python",
   "nbconvert_exporter": "python",
   "pygments_lexer": "ipython2",
   "version": "2.7.6"
  }
 },
 "nbformat": 4,
 "nbformat_minor": 5
}
