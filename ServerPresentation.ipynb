{
 "cells": [
  {
   "metadata": {},
   "cell_type": "markdown",
   "source": "不妨先导入服务器和异步处理器",
   "id": "134b8b0ffe9d7e3"
  },
  {
   "metadata": {},
   "cell_type": "code",
   "source": [
    "import ManagementServer\n",
    "import asyncio"
   ],
   "id": "initial_id",
   "outputs": [],
   "execution_count": null
  },
  {
   "cell_type": "markdown",
   "id": "27ebd3df347af207",
   "metadata": {},
   "source": [
    "定义一个异步函数用于同时启动三个服务器"
   ]
  },
  {
   "metadata": {},
   "cell_type": "code",
   "source": [
    "async def main():\n",
    "    await asyncio.gather(\n",
    "        ManagementServer.gRPC.start(),\n",
    "        ManagementServer.command.start(),\n",
    "        ManagementServer.api.start()\n",
    "    )"
   ],
   "id": "81e1003b3d39e870",
   "outputs": [],
   "execution_count": null
  },
  {
   "metadata": {},
   "cell_type": "markdown",
   "source": "然后启动服务器，gRPC 监听在 50051，command 监听在 50050，api 监听在 50052",
   "id": "e63ab45661d9f577"
  },
  {
   "metadata": {},
   "cell_type": "code",
   "source": "asyncio.get_running_loop().create_task(main())",
   "id": "e82612e5e1ea7cfb",
   "outputs": [],
   "execution_count": null
  },
  {
   "metadata": {},
   "cell_type": "markdown",
   "source": "不出意外的话，你现在可以在[这里](http://127.0.0.1:50052/docs)访问到 API 的文档页并尝试使用了。",
   "id": "c2309b13289f1abb"
  }
 ],
 "metadata": {
  "kernelspec": {
   "display_name": "Python 3",
   "language": "python",
   "name": "python3"
  },
  "language_info": {
   "codemirror_mode": {
    "name": "ipython",
    "version": 2
   },
   "file_extension": ".py",
   "mimetype": "text/x-python",
   "name": "python",
   "nbconvert_exporter": "python",
   "pygments_lexer": "ipython2",
   "version": "2.7.6"
  }
 },
 "nbformat": 4,
 "nbformat_minor": 5
}
